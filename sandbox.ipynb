{
 "cells": [
  {
   "cell_type": "markdown",
   "metadata": {},
   "source": []
  },
  {
   "cell_type": "code",
   "execution_count": null,
   "metadata": {},
   "outputs": [],
   "source": [
    "import matplotlib.pyplot as plt\n",
    "import pandas as pd\n",
    "import numpy as np\n",
    "from process import process_thai\n",
    "from visualize import top_feats_all, plot_top_feats"
   ]
  },
  {
   "cell_type": "code",
   "execution_count": 2,
   "metadata": {},
   "outputs": [],
   "source": [
    "# #snippet to install thai font in matplotlib from https://gist.github.com/korakot/9d7f5db632351dc92607fdec72a4953f\n",
    "import matplotlib\n",
    "# !wget https://github.com/Phonbopit/sarabun-webfont/raw/master/fonts/thsarabunnew-webfont.ttf\n",
    "# !cp thsarabunnew-webfont.ttf /usr/local/lib/python3.6/dist-packages/matplotlib/mpl-data/fonts/ttf/\n",
    "# !cp thsarabunnew-webfont.ttf /usr/share/fonts/truetype/\n",
    "matplotlib.font_manager._rebuild()\n",
    "matplotlib.rc('font', family='TH Sarabun New')"
   ]
  },
  {
   "cell_type": "code",
   "execution_count": 3,
   "metadata": {},
   "outputs": [
    {
     "data": {
      "text/html": [
       "<div>\n",
       "<style scoped>\n",
       "    .dataframe tbody tr th:only-of-type {\n",
       "        vertical-align: middle;\n",
       "    }\n",
       "\n",
       "    .dataframe tbody tr th {\n",
       "        vertical-align: top;\n",
       "    }\n",
       "\n",
       "    .dataframe thead th {\n",
       "        text-align: right;\n",
       "    }\n",
       "</style>\n",
       "<table border=\"1\" class=\"dataframe\">\n",
       "  <thead>\n",
       "    <tr style=\"text-align: right;\">\n",
       "      <th></th>\n",
       "      <th>category</th>\n",
       "      <th>texts</th>\n",
       "    </tr>\n",
       "  </thead>\n",
       "  <tbody>\n",
       "    <tr>\n",
       "      <th>0</th>\n",
       "      <td>neu</td>\n",
       "      <td>10 ประโยชน์ของฮับมะกอก เกรด A จากตุรกี 1. ช่วย...</td>\n",
       "    </tr>\n",
       "    <tr>\n",
       "      <th>1</th>\n",
       "      <td>neg</td>\n",
       "      <td>ขับอัลติส1.8/141ม้า บางทีเจอกะบะกะพริบไฟใร่ตาม...</td>\n",
       "    </tr>\n",
       "    <tr>\n",
       "      <th>2</th>\n",
       "      <td>neu</td>\n",
       "      <td>อยู่แบบนี้กันไปนานๆนะ อยู่เป็นเพื่อนในเหงา อยู...</td>\n",
       "    </tr>\n",
       "    <tr>\n",
       "      <th>3</th>\n",
       "      <td>neu</td>\n",
       "      <td>ข้างหลังเลียนแบบ mg3ชัดชัด</td>\n",
       "    </tr>\n",
       "    <tr>\n",
       "      <th>4</th>\n",
       "      <td>neu</td>\n",
       "      <td>,, อยาก ชีวิตดีกับ BLEND285 จัง เลยจ๊ะพี่จ๋า</td>\n",
       "    </tr>\n",
       "  </tbody>\n",
       "</table>\n",
       "</div>"
      ],
      "text/plain": [
       "  category                                              texts\n",
       "0      neu  10 ประโยชน์ของฮับมะกอก เกรด A จากตุรกี 1. ช่วย...\n",
       "1      neg  ขับอัลติส1.8/141ม้า บางทีเจอกะบะกะพริบไฟใร่ตาม...\n",
       "2      neu  อยู่แบบนี้กันไปนานๆนะ อยู่เป็นเพื่อนในเหงา อยู...\n",
       "3      neu                         ข้างหลังเลียนแบบ mg3ชัดชัด\n",
       "4      neu       ,, อยาก ชีวิตดีกับ BLEND285 จัง เลยจ๊ะพี่จ๋า"
      ]
     },
     "execution_count": 3,
     "metadata": {},
     "output_type": "execute_result"
    }
   ],
   "source": [
    "import pandas as pd\n",
    "all_df = pd.read_csv('all_df.csv')\n",
    "all_df.head()"
   ]
  },
  {
   "cell_type": "code",
   "execution_count": 4,
   "metadata": {},
   "outputs": [],
   "source": [
    "#transformation\n",
    "from sklearn.feature_extraction.text import TfidfVectorizer,CountVectorizer\n",
    "tfidf = TfidfVectorizer(tokenizer=process_thai, ngram_range=(1,2), min_df=20, sublinear_tf=True)\n",
    "tfidf_fit = tfidf.fit(all_df['texts'])\n",
    "# cnt = CountVectorizer(tokenizer=process_thai, ngram_range=(1,2))\n",
    "# cnt_fit = cnt.fit(all_df['texts'])\n",
    "text_all = tfidf_fit.transform(all_df['texts']) #cnt_fit.transform(all_df['texts'])\n",
    "\n",
    "#for exploration\n",
    "text_all_np = text_all.toarray()\n",
    "y = all_df['category']\n",
    "features = tfidf_fit.get_feature_names()"
   ]
  },
  {
   "cell_type": "code",
   "execution_count": 5,
   "metadata": {},
   "outputs": [
    {
     "name": "stdout",
     "output_type": "stream",
     "text": [
      "CPU times: user 953 ms, sys: 1.89 s, total: 2.84 s\n",
      "Wall time: 3 s\n",
      "(6382, 5)\n"
     ]
    },
    {
     "data": {
      "text/html": [
       "<div>\n",
       "<style scoped>\n",
       "    .dataframe tbody tr th:only-of-type {\n",
       "        vertical-align: middle;\n",
       "    }\n",
       "\n",
       "    .dataframe tbody tr th {\n",
       "        vertical-align: top;\n",
       "    }\n",
       "\n",
       "    .dataframe thead th {\n",
       "        text-align: right;\n",
       "    }\n",
       "</style>\n",
       "<table border=\"1\" class=\"dataframe\">\n",
       "  <thead>\n",
       "    <tr style=\"text-align: right;\">\n",
       "      <th></th>\n",
       "      <th>rank</th>\n",
       "      <th>feature</th>\n",
       "      <th>score</th>\n",
       "      <th>ngram</th>\n",
       "      <th>label</th>\n",
       "    </tr>\n",
       "  </thead>\n",
       "  <tbody>\n",
       "    <tr>\n",
       "      <th>0</th>\n",
       "      <td>0</td>\n",
       "      <td></td>\n",
       "      <td>0.044832</td>\n",
       "      <td>1</td>\n",
       "      <td>neg</td>\n",
       "    </tr>\n",
       "    <tr>\n",
       "      <th>1</th>\n",
       "      <td>1</td>\n",
       "      <td>ไม่</td>\n",
       "      <td>0.023822</td>\n",
       "      <td>1</td>\n",
       "      <td>neg</td>\n",
       "    </tr>\n",
       "    <tr>\n",
       "      <th>2</th>\n",
       "      <td>2</td>\n",
       "      <td>กิน</td>\n",
       "      <td>0.021127</td>\n",
       "      <td>1</td>\n",
       "      <td>neg</td>\n",
       "    </tr>\n",
       "    <tr>\n",
       "      <th>3</th>\n",
       "      <td>3</td>\n",
       "      <td>xxrep</td>\n",
       "      <td>0.019947</td>\n",
       "      <td>1</td>\n",
       "      <td>neg</td>\n",
       "    </tr>\n",
       "    <tr>\n",
       "      <th>4</th>\n",
       "      <td>4</td>\n",
       "      <td>เลย</td>\n",
       "      <td>0.016046</td>\n",
       "      <td>1</td>\n",
       "      <td>neg</td>\n",
       "    </tr>\n",
       "  </tbody>\n",
       "</table>\n",
       "</div>"
      ],
      "text/plain": [
       "   rank feature     score  ngram label\n",
       "0     0          0.044832      1   neg\n",
       "1     1     ไม่  0.023822      1   neg\n",
       "2     2     กิน  0.021127      1   neg\n",
       "3     3   xxrep  0.019947      1   neg\n",
       "4     4     เลย  0.016046      1   neg"
      ]
     },
     "execution_count": 5,
     "metadata": {},
     "output_type": "execute_result"
    }
   ],
   "source": [
    "%time ts = top_feats_all(text_all_np,y,features)\n",
    "print(ts[0].shape)\n",
    "ts[0].head()"
   ]
  },
  {
   "cell_type": "code",
   "execution_count": 6,
   "metadata": {},
   "outputs": [
    {
     "data": {
      "image/png": "[encoded data removed]",
      "text/plain": [
       "<Figure size 864x648 with 4 Axes>"
      ]
     },
     "metadata": {},
     "output_type": "display_data"
    },
    {
     "name": "stdout",
     "output_type": "stream",
     "text": [
      "CPU times: user 1.41 s, sys: 797 ms, total: 2.2 s\n",
      "Wall time: 1.12 s\n"
     ]
    }
   ],
   "source": [
    "%time plot_top_feats(ts)"
   ]
  },
  {
   "cell_type": "code",
   "execution_count": null,
   "metadata": {},
   "outputs": [],
   "source": []
  }
 ],
 "metadata": {
  "kernelspec": {
   "display_name": "drlnd",
   "language": "python",
   "name": "drlnd"
  },
  "language_info": {
   "codemirror_mode": {
    "name": "ipython",
    "version": 3
   },
   "file_extension": ".py",
   "mimetype": "text/x-python",
   "name": "python",
   "nbconvert_exporter": "python",
   "pygments_lexer": "ipython3",
   "version": "3.6.8"
  }
 },
 "nbformat": 4,
 "nbformat_minor": 2
}
